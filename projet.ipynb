{
  "nbformat": 4,
  "nbformat_minor": 0,
  "metadata": {
    "colab": {
      "name": "projet.ipynb",
      "provenance": [],
      "authorship_tag": "ABX9TyOeQXPrO5gGKGL4XTNSvMUp",
      "include_colab_link": true
    },
    "kernelspec": {
      "name": "python3",
      "display_name": "Python 3"
    },
    "language_info": {
      "name": "python"
    },
    "accelerator": "GPU"
  },
  "cells": [
    {
      "cell_type": "markdown",
      "metadata": {
        "id": "view-in-github",
        "colab_type": "text"
      },
      "source": [
        "<a href=\"https://colab.research.google.com/github/cocogne2/projet6/blob/master/projet.ipynb\" target=\"_parent\"><img src=\"https://colab.research.google.com/assets/colab-badge.svg\" alt=\"Open In Colab\"/></a>"
      ]
    },
    {
      "cell_type": "code",
      "metadata": {
        "colab": {
          "base_uri": "https://localhost:8080/"
        },
        "id": "E6QwI1ThLdnD",
        "outputId": "77183a91-578b-4bef-ac3c-1999e23e272d"
      },
      "source": [
        "import tensorflow as tf\n",
        "from google.colab import drive \n",
        "from lxml import etree\n",
        "import os\n",
        "from PIL import Image\n",
        "import matplotlib.pyplot as plt\n",
        "import pandas as pd \n",
        "import numpy as np\n",
        "drive.mount('/content/gdrive', force_remount=True)\n",
        "path_to_data = os.path.join('gdrive','My Drive','projet_6')"
      ],
      "execution_count": 1,
      "outputs": [
        {
          "output_type": "stream",
          "name": "stdout",
          "text": [
            "Mounted at /content/gdrive\n"
          ]
        }
      ]
    },
    {
      "cell_type": "code",
      "metadata": {
        "colab": {
          "base_uri": "https://localhost:8080/"
        },
        "id": "8cvGmPPALmih",
        "outputId": "fec00b1b-b422-44f1-8de7-06347b401365"
      },
      "source": [
        "pip install livelossplot"
      ],
      "execution_count": 2,
      "outputs": [
        {
          "output_type": "stream",
          "name": "stdout",
          "text": [
            "Collecting livelossplot\n",
            "  Downloading livelossplot-0.5.4-py3-none-any.whl (22 kB)\n",
            "Requirement already satisfied: ipython in /usr/local/lib/python3.7/dist-packages (from livelossplot) (5.5.0)\n",
            "Requirement already satisfied: matplotlib in /usr/local/lib/python3.7/dist-packages (from livelossplot) (3.2.2)\n",
            "Requirement already satisfied: bokeh in /usr/local/lib/python3.7/dist-packages (from livelossplot) (2.3.3)\n",
            "Requirement already satisfied: Jinja2>=2.9 in /usr/local/lib/python3.7/dist-packages (from bokeh->livelossplot) (2.11.3)\n",
            "Requirement already satisfied: numpy>=1.11.3 in /usr/local/lib/python3.7/dist-packages (from bokeh->livelossplot) (1.19.5)\n",
            "Requirement already satisfied: PyYAML>=3.10 in /usr/local/lib/python3.7/dist-packages (from bokeh->livelossplot) (3.13)\n",
            "Requirement already satisfied: python-dateutil>=2.1 in /usr/local/lib/python3.7/dist-packages (from bokeh->livelossplot) (2.8.2)\n",
            "Requirement already satisfied: tornado>=5.1 in /usr/local/lib/python3.7/dist-packages (from bokeh->livelossplot) (5.1.1)\n",
            "Requirement already satisfied: packaging>=16.8 in /usr/local/lib/python3.7/dist-packages (from bokeh->livelossplot) (21.0)\n",
            "Requirement already satisfied: typing-extensions>=3.7.4 in /usr/local/lib/python3.7/dist-packages (from bokeh->livelossplot) (3.7.4.3)\n",
            "Requirement already satisfied: pillow>=7.1.0 in /usr/local/lib/python3.7/dist-packages (from bokeh->livelossplot) (7.1.2)\n",
            "Requirement already satisfied: MarkupSafe>=0.23 in /usr/local/lib/python3.7/dist-packages (from Jinja2>=2.9->bokeh->livelossplot) (2.0.1)\n",
            "Requirement already satisfied: pyparsing>=2.0.2 in /usr/local/lib/python3.7/dist-packages (from packaging>=16.8->bokeh->livelossplot) (2.4.7)\n",
            "Requirement already satisfied: six>=1.5 in /usr/local/lib/python3.7/dist-packages (from python-dateutil>=2.1->bokeh->livelossplot) (1.15.0)\n",
            "Requirement already satisfied: setuptools>=18.5 in /usr/local/lib/python3.7/dist-packages (from ipython->livelossplot) (57.4.0)\n",
            "Requirement already satisfied: prompt-toolkit<2.0.0,>=1.0.4 in /usr/local/lib/python3.7/dist-packages (from ipython->livelossplot) (1.0.18)\n",
            "Requirement already satisfied: simplegeneric>0.8 in /usr/local/lib/python3.7/dist-packages (from ipython->livelossplot) (0.8.1)\n",
            "Requirement already satisfied: pickleshare in /usr/local/lib/python3.7/dist-packages (from ipython->livelossplot) (0.7.5)\n",
            "Requirement already satisfied: decorator in /usr/local/lib/python3.7/dist-packages (from ipython->livelossplot) (4.4.2)\n",
            "Requirement already satisfied: pexpect in /usr/local/lib/python3.7/dist-packages (from ipython->livelossplot) (4.8.0)\n",
            "Requirement already satisfied: traitlets>=4.2 in /usr/local/lib/python3.7/dist-packages (from ipython->livelossplot) (5.1.0)\n",
            "Requirement already satisfied: pygments in /usr/local/lib/python3.7/dist-packages (from ipython->livelossplot) (2.6.1)\n",
            "Requirement already satisfied: wcwidth in /usr/local/lib/python3.7/dist-packages (from prompt-toolkit<2.0.0,>=1.0.4->ipython->livelossplot) (0.2.5)\n",
            "Requirement already satisfied: kiwisolver>=1.0.1 in /usr/local/lib/python3.7/dist-packages (from matplotlib->livelossplot) (1.3.2)\n",
            "Requirement already satisfied: cycler>=0.10 in /usr/local/lib/python3.7/dist-packages (from matplotlib->livelossplot) (0.10.0)\n",
            "Requirement already satisfied: ptyprocess>=0.5 in /usr/local/lib/python3.7/dist-packages (from pexpect->ipython->livelossplot) (0.7.0)\n",
            "Installing collected packages: livelossplot\n",
            "Successfully installed livelossplot-0.5.4\n"
          ]
        }
      ]
    },
    {
      "cell_type": "code",
      "metadata": {
        "id": "lLbPTR-ZLolG"
      },
      "source": [
        "def cpu():\n",
        "  %matplotlib inline\n",
        "  path=os.path.join(path_to_data,'Images')\n",
        "  for folder in os.listdir(path): \n",
        "      if os.path.isdir(os.path.join(path,folder)):\n",
        "          print(\"folder\",folder)\n",
        "          path2=os.path.join(path,folder)\n",
        "          race_chien=folder.split(\"-\",1)[1]\n",
        "          for file in os.listdir(path2):\n",
        "            file=file.split(\".\")[0]\n",
        "            nom_chien=file.split(\"_\")[1]\n",
        "            print(\"file:\",file)\n",
        "            tree = etree.parse(os.path.join(path_to_data,'Annotation', folder, file))\n",
        "            for x in tree.xpath(\"/annotation/object/bndbox/xmin\"):\n",
        "                x_min=int(x.text)\n",
        "            for x in tree.xpath(\"/annotation/object/bndbox/xmax\"):\n",
        "                x_max=int(x.text)\n",
        "            for y in tree.xpath(\"/annotation/object/bndbox/ymin\"):\n",
        "                y_min=int(y.text)\n",
        "            for y in tree.xpath(\"/annotation/object/bndbox/ymax\"):\n",
        "                y_max=int(y.text)\n",
        "            \n",
        "            # Import the image\n",
        "            \n",
        "            im = Image.open(os.path.join(path_to_data,'Images', folder, file+\".jpg\"))\n",
        "            im=im.crop((x_min,y_min,x_max,y_max))             \n",
        "            # Create a constant as filename\n",
        "            file_save=race_chien+\"*\"+nom_chien\n",
        "\n",
        "            file_name = os.path.join(path_to_data,'images_crop',file_save+\".jpg\")\n",
        "            width, height = im.size\n",
        "            if width>height:\n",
        "              new_width=224\n",
        "              size_index=new_width/width\n",
        "              new_height=round(height*size_index)\n",
        "            if width<=height:\n",
        "              new_height=224\n",
        "              size_index=new_height/height\n",
        "              new_width=round(width*size_index)\n",
        "            im=im.resize((new_width,new_height),Image.ANTIALIAS)\n",
        "            new_im = Image.new(\"RGB\", (224,224))\n",
        "            new_im.paste(im, (round((224-new_width)/2),\n",
        "                                round((224-new_height)/2)))\n",
        "            new_im.save(file_name)\n",
        "        \n",
        "            #print(\"Image Saved!\")\n",
        "cpu()"
      ],
      "execution_count": null,
      "outputs": []
    },
    {
      "cell_type": "code",
      "metadata": {
        "id": "RWLCe4eLLxOt"
      },
      "source": [
        "# ---------------------------------------------------------------------------\n",
        "# Configuration des paramètres principaux du modèle\n",
        "# ---------------------------------------------------------------------------\n",
        "# Le chemin vers la sauvegarde du réseau\n",
        "model_savepath    = os.path.join(path_to_data,'cnn_vgg16_model_trained_2.h5')     \n",
        "\n",
        "# Les chemins vers les jeu de données\n",
        "TRAINING_DIR      = os.path.join(path_to_data,'images_crop_20')\n",
        "TESTING_DIR       = os.path.join(path_to_data,'test')\n",
        "\n",
        "IMGSIZE       = 224    # Taille de l'image en input\n",
        "EPOCH         = 100     # nombre d'epoch \n",
        "BATCH_SIZE    = 50     # traitement par batch d'images avant la descente de gradient\n",
        "TRAIN         = True   # Entrainement ou utilisation d'un réseau déjà entrainé"
      ],
      "execution_count": 3,
      "outputs": []
    },
    {
      "cell_type": "code",
      "metadata": {
        "id": "2phiJYkyLylM"
      },
      "source": [
        "def list_unique(list_unique):\n",
        "    \"\"\"\n",
        "    Cette fonction prend une liste en entrée et retourne la liste sans doublon\n",
        "    \"\"\"\n",
        "    new_list = [] \n",
        "    for i in list_unique : \n",
        "        if i not in new_list: \n",
        "            new_list.append(i) \n",
        "    return new_list"
      ],
      "execution_count": 4,
      "outputs": []
    },
    {
      "cell_type": "code",
      "metadata": {
        "id": "DUN2p9OQL3Od"
      },
      "source": [
        "# ---------------------------------------------------------------------------\n",
        "#  Constitution des jeux de données\n",
        "# ---------------------------------------------------------------------------    \n",
        "\n",
        "# -------\n",
        "#  Jeu d'entrainement\n",
        "# -------\n",
        "\n",
        "# Dataframe de deux colonnes contenant les id des fichiers et leur label\n",
        "train_files = os.listdir(TRAINING_DIR)\n",
        "train_labels = []\n",
        "\n",
        "for file in train_files:\n",
        "    train_labels.append(file.split(\"*\",1)[0])\n",
        "labels_sans_doublon=list_unique(train_labels)\n",
        "df = pd.DataFrame({\"id\": train_files, \"label\": train_labels})\n",
        "X=df[\"id\"]\n",
        "y=df[\"label\"]\n",
        "from sklearn import model_selection\n",
        "X_train, X_test, y_train, y_test = model_selection.train_test_split(X, y, test_size=0.25,stratify=y ) # 25% des données dans le jeu de test\n",
        "df_train =pd.DataFrame({\"id\": X_train, \"label\": y_train})\n",
        "df_valid =pd.DataFrame({\"id\": X_test,  \"label\": y_test})"
      ],
      "execution_count": 5,
      "outputs": []
    },
    {
      "cell_type": "code",
      "metadata": {
        "id": "jsVkOYf8MAOZ"
      },
      "source": [
        "from keras.models import Model\n",
        "from keras.layers import Flatten, Dense, Dropout\n",
        "#from keras.optimizers import adam_v2\n",
        "from keras.preprocessing.image import ImageDataGenerator\n",
        "from keras.applications.vgg16 import VGG16, preprocess_input\n",
        "from keras.utils.np_utils import to_categorical\n",
        "from keras.callbacks import EarlyStopping, ModelCheckpoint"
      ],
      "execution_count": 6,
      "outputs": []
    },
    {
      "cell_type": "code",
      "metadata": {
        "colab": {
          "base_uri": "https://localhost:8080/"
        },
        "id": "hojSpF3CMD-i",
        "outputId": "8d0fbc63-5fbf-48b0-b70b-7db534db291b"
      },
      "source": [
        "# Image generator: attention il est préférable de ne pas utiliser d'augmentation de données\n",
        "# Nous utilisons également un processing spécifique au VGG16 et non pas un rescale 1./255\n",
        "train_datagen =  \\\n",
        "        ImageDataGenerator(\n",
        "            preprocessing_function=preprocess_input,\n",
        "            validation_split=0)\n",
        "\n",
        "train_generator = \\\n",
        "        train_datagen.flow_from_dataframe(\n",
        "            df_train,\n",
        "            TRAINING_DIR,\n",
        "            x_col='id',\n",
        "            y_col='label',\n",
        "            shuffle=True,\n",
        "            target_size=(IMGSIZE, IMGSIZE),\n",
        "            batch_size=BATCH_SIZE,\n",
        "            subset='training',\n",
        "            class_mode='categorical')\n",
        "train_labels = to_categorical(train_generator.classes)"
      ],
      "execution_count": 7,
      "outputs": [
        {
          "output_type": "stream",
          "name": "stdout",
          "text": [
            "Found 2724 validated image filenames belonging to 20 classes.\n"
          ]
        }
      ]
    },
    {
      "cell_type": "code",
      "metadata": {
        "colab": {
          "base_uri": "https://localhost:8080/"
        },
        "id": "KXR-8r5ZMKn5",
        "outputId": "d4528db1-a3ce-413b-c6e8-4813102731ce"
      },
      "source": [
        "# -------\n",
        "#  Jeu de validation\n",
        "# -------\n",
        "valid_datagen =  \\\n",
        "        ImageDataGenerator(\n",
        "            preprocessing_function=preprocess_input, validation_split=0.99999999)\n",
        "        \n",
        "valid_generator = \\\n",
        "        valid_datagen.flow_from_dataframe(\n",
        "            df_valid,\n",
        "            TRAINING_DIR,\n",
        "            x_col='id',\n",
        "            y_col='label',\n",
        "            shuffle=True,\n",
        "            target_size=(IMGSIZE, IMGSIZE),\n",
        "            batch_size=BATCH_SIZE,\n",
        "            subset='validation',\n",
        "            class_mode='categorical')"
      ],
      "execution_count": 8,
      "outputs": [
        {
          "output_type": "stream",
          "name": "stdout",
          "text": [
            "Found 908 validated image filenames belonging to 20 classes.\n"
          ]
        }
      ]
    },
    {
      "cell_type": "code",
      "metadata": {
        "colab": {
          "base_uri": "https://localhost:8080/"
        },
        "id": "t9QVbm7TMXwz",
        "outputId": "67d14497-d832-4c83-b114-ddc401c53e49"
      },
      "source": [
        "# -----------\n",
        "# VGG16 pre-entrainé sans le classifier final\n",
        "# https://github.com/keras-team/keras/issues/4465\n",
        "# -----------\n",
        "\n",
        "# Déclaration du modèle VGG16 (sans le top qui est le classifier)\n",
        "\n",
        "base_model = VGG16(include_top=False, weights='imagenet', input_shape=(IMGSIZE, IMGSIZE, 3))\n",
        "# Classifier\n",
        "x = base_model.output\n",
        "x = Flatten(name=\"flatten\")(x)\n",
        "#x = Dropout(0.5)(x)\n",
        "x = Dense(200, activation='tanh', name='top-fc1')(x)\n",
        "x = Dense(40, activation='tanh', name='top-fc2')(x)\n",
        "#x = Dropout(0.2)(x)\n",
        "\n",
        "# output layer: nombre de neurones de sortie = nombre de classe a prédire\n",
        "output_layer = Dense(len(labels_sans_doublon),activation='softmax', name='softmax')(x)\n",
        "# Assemblage du modèle final\n",
        "net_final = Model(inputs=base_model.input, outputs=output_layer)\n",
        "\n",
        "for layer in base_model.layers:\n",
        "    layer.trainable = False\n",
        "\n",
        "\n",
        "# compilation du modele\n",
        "net_final.compile(optimizer='adam', loss='categorical_crossentropy', metrics=['accuracy'])\n",
        "print(net_final.summary())"
      ],
      "execution_count": 9,
      "outputs": [
        {
          "output_type": "stream",
          "name": "stdout",
          "text": [
            "Downloading data from https://storage.googleapis.com/tensorflow/keras-applications/vgg16/vgg16_weights_tf_dim_ordering_tf_kernels_notop.h5\n",
            "58892288/58889256 [==============================] - 0s 0us/step\n",
            "58900480/58889256 [==============================] - 0s 0us/step\n",
            "Model: \"model\"\n",
            "_________________________________________________________________\n",
            "Layer (type)                 Output Shape              Param #   \n",
            "=================================================================\n",
            "input_1 (InputLayer)         [(None, 224, 224, 3)]     0         \n",
            "_________________________________________________________________\n",
            "block1_conv1 (Conv2D)        (None, 224, 224, 64)      1792      \n",
            "_________________________________________________________________\n",
            "block1_conv2 (Conv2D)        (None, 224, 224, 64)      36928     \n",
            "_________________________________________________________________\n",
            "block1_pool (MaxPooling2D)   (None, 112, 112, 64)      0         \n",
            "_________________________________________________________________\n",
            "block2_conv1 (Conv2D)        (None, 112, 112, 128)     73856     \n",
            "_________________________________________________________________\n",
            "block2_conv2 (Conv2D)        (None, 112, 112, 128)     147584    \n",
            "_________________________________________________________________\n",
            "block2_pool (MaxPooling2D)   (None, 56, 56, 128)       0         \n",
            "_________________________________________________________________\n",
            "block3_conv1 (Conv2D)        (None, 56, 56, 256)       295168    \n",
            "_________________________________________________________________\n",
            "block3_conv2 (Conv2D)        (None, 56, 56, 256)       590080    \n",
            "_________________________________________________________________\n",
            "block3_conv3 (Conv2D)        (None, 56, 56, 256)       590080    \n",
            "_________________________________________________________________\n",
            "block3_pool (MaxPooling2D)   (None, 28, 28, 256)       0         \n",
            "_________________________________________________________________\n",
            "block4_conv1 (Conv2D)        (None, 28, 28, 512)       1180160   \n",
            "_________________________________________________________________\n",
            "block4_conv2 (Conv2D)        (None, 28, 28, 512)       2359808   \n",
            "_________________________________________________________________\n",
            "block4_conv3 (Conv2D)        (None, 28, 28, 512)       2359808   \n",
            "_________________________________________________________________\n",
            "block4_pool (MaxPooling2D)   (None, 14, 14, 512)       0         \n",
            "_________________________________________________________________\n",
            "block5_conv1 (Conv2D)        (None, 14, 14, 512)       2359808   \n",
            "_________________________________________________________________\n",
            "block5_conv2 (Conv2D)        (None, 14, 14, 512)       2359808   \n",
            "_________________________________________________________________\n",
            "block5_conv3 (Conv2D)        (None, 14, 14, 512)       2359808   \n",
            "_________________________________________________________________\n",
            "block5_pool (MaxPooling2D)   (None, 7, 7, 512)         0         \n",
            "_________________________________________________________________\n",
            "flatten (Flatten)            (None, 25088)             0         \n",
            "_________________________________________________________________\n",
            "top-fc1 (Dense)              (None, 200)               5017800   \n",
            "_________________________________________________________________\n",
            "top-fc2 (Dense)              (None, 40)                8040      \n",
            "_________________________________________________________________\n",
            "softmax (Dense)              (None, 20)                820       \n",
            "=================================================================\n",
            "Total params: 19,741,348\n",
            "Trainable params: 5,026,660\n",
            "Non-trainable params: 14,714,688\n",
            "_________________________________________________________________\n",
            "None\n"
          ]
        }
      ]
    },
    {
      "cell_type": "code",
      "metadata": {
        "colab": {
          "base_uri": "https://localhost:8080/",
          "height": 695
        },
        "id": "OrEphRx1Mr0Z",
        "outputId": "d9366164-4f2d-49e3-be92-9d1093e81b48"
      },
      "source": [
        "from livelossplot.inputs.keras import PlotLossesCallback\n",
        "if (TRAIN):\n",
        "    plot_loss_1 = PlotLossesCallback()\n",
        "\n",
        "    # Création des Callbacks à appeler aprés chaque epoch\n",
        "    #   pour sauvegarde des résultats\n",
        "    checkpoint = ModelCheckpoint(\"model_1.h5\", monitor='val_loss', verbose=0, save_best_only=True, save_weights_only=False, mode='auto', save_freq='epoch')\n",
        "    #   pour arrêt prématuré\n",
        "    early = EarlyStopping(monitor='val_loss', min_delta=0, patience=5, verbose=0, mode='auto')\n",
        "    \n",
        "#   history = net_final.fit(train_generator,steps_per_epoch = STEP_SIZE_TRAIN, epochs=EPOCH, validation_data=valid_generator,validation_steps = STEP_SIZE_VALID,callbacks = [checkpoint, early, plot_loss_1])\n",
        "    history = net_final.fit(train_generator, epochs=EPOCH, validation_data=valid_generator,batch_size=BATCH_SIZE,callbacks = [checkpoint, early, plot_loss_1])\n",
        "    # Sauvegarde du réseau après entrainement\n",
        "    net_final.save(model_savepath)    \n",
        "    "
      ],
      "execution_count": 10,
      "outputs": [
        {
          "output_type": "display_data",
          "data": {
            "image/png": "[encoded data removed]",
            "text/plain": [
              "<Figure size 864x576 with 2 Axes>"
            ]
          },
          "metadata": {
            "needs_background": "light"
          }
        },
        {
          "output_type": "stream",
          "name": "stdout",
          "text": [
            "accuracy\n",
            "\ttraining         \t (min:    0.348, max:    0.821, cur:    0.802)\n",
            "\tvalidation       \t (min:    0.470, max:    0.726, cur:    0.708)\n",
            "Loss\n",
            "\ttraining         \t (min:    0.582, max:    2.279, cur:    0.606)\n",
            "\tvalidation       \t (min:    0.792, max:    1.901, cur:    0.847)\n"
          ]
        }
      ]
    },
    {
      "cell_type": "code",
      "metadata": {
        "id": "loI1sjMMUxOa"
      },
      "source": [
        "df2=df_train.sample(10)"
      ],
      "execution_count": 13,
      "outputs": []
    },
    {
      "cell_type": "code",
      "metadata": {
        "colab": {
          "base_uri": "https://localhost:8080/"
        },
        "id": "6q0vo5puV5JW",
        "outputId": "6f6d2bcb-bd1d-4396-cf59-83c510889a7d"
      },
      "source": [
        "class_dict=train_generator.class_indices\n",
        "labels= train_generator.labels\n",
        "file=train_generator.filenames\n",
        "\n",
        "new_dict={}\n",
        "for key,value in class_dict.items():\n",
        "        new_dict[value]=key \n",
        "\n",
        "valid2_generator = \\\n",
        "        valid_datagen.flow_from_dataframe(\n",
        "            df_valid,\n",
        "            TRAINING_DIR,\n",
        "            x_col='id',\n",
        "            y_col='label',\n",
        "            shuffle=False,\n",
        "            target_size=(IMGSIZE, IMGSIZE),\n",
        "            batch_size=BATCH_SIZE,\n",
        "            subset='validation',\n",
        "            class_mode='categorical')\n",
        "pred = net_final.predict(valid2_generator, batch_size=BATCH_SIZE, verbose=0)\n",
        "pred_labels = np.argmax(pred, axis=1)\n",
        "true_labels=valid2_generator.labels\n",
        "pred_classe=[]\n",
        "x2=0\n",
        "while x2<valid2_generator.n-1:\n",
        "  pred_classe.append(new_dict[pred_labels[x2]])\n",
        "  x2=x2+1\n"
      ],
      "execution_count": 65,
      "outputs": [
        {
          "output_type": "stream",
          "name": "stdout",
          "text": [
            "Found 908 validated image filenames belonging to 20 classes.\n"
          ]
        }
      ]
    },
    {
      "cell_type": "code",
      "metadata": {
        "colab": {
          "base_uri": "https://localhost:8080/"
        },
        "id": "82mN_yi6nTIi",
        "outputId": "e7056001-ddeb-49c3-a470-fff9d62b32ab"
      },
      "source": [
        "print(\"true\",true_labels)\n",
        "print(\"pred\",pred_labels)"
      ],
      "execution_count": 66,
      "outputs": [
        {
          "output_type": "stream",
          "name": "stdout",
          "text": [
            "true [6, 1, 13, 15, 9, 0, 5, 15, 18, 6, 13, 4, 3, 19, 5, 17, 10, 18, 10, 14, 0, 1, 2, 17, 1, 1, 17, 11, 2, 14, 0, 9, 9, 17, 9, 12, 18, 19, 9, 2, 0, 10, 13, 15, 13, 7, 12, 12, 18, 19, 17, 14, 9, 15, 1, 13, 11, 4, 7, 17, 16, 5, 18, 13, 5, 19, 12, 19, 18, 12, 3, 7, 1, 0, 14, 14, 18, 15, 2, 13, 5, 18, 6, 6, 19, 12, 19, 9, 1, 14, 4, 0, 14, 2, 9, 16, 7, 12, 6, 7, 7, 7, 0, 16, 16, 12, 9, 3, 9, 12, 4, 7, 8, 10, 6, 6, 13, 8, 3, 17, 16, 11, 6, 8, 14, 1, 17, 0, 8, 11, 5, 17, 0, 18, 10, 10, 11, 6, 19, 14, 9, 19, 9, 10, 7, 13, 3, 7, 5, 7, 15, 0, 4, 10, 3, 16, 0, 3, 1, 4, 4, 14, 17, 15, 12, 12, 3, 10, 15, 15, 0, 0, 12, 17, 16, 8, 0, 8, 13, 11, 3, 4, 0, 3, 11, 1, 11, 6, 9, 16, 10, 0, 16, 14, 13, 5, 14, 5, 12, 2, 2, 14, 3, 1, 9, 19, 1, 17, 9, 8, 3, 19, 8, 3, 4, 8, 18, 8, 2, 7, 6, 8, 9, 13, 0, 1, 7, 19, 12, 8, 4, 4, 14, 2, 10, 17, 8, 14, 4, 1, 8, 8, 3, 17, 13, 7, 17, 1, 15, 9, 17, 3, 13, 3, 12, 8, 5, 14, 8, 8, 8, 18, 10, 16, 9, 0, 3, 12, 13, 18, 0, 17, 2, 14, 5, 6, 4, 9, 9, 3, 0, 11, 15, 6, 14, 2, 15, 13, 0, 8, 8, 3, 7, 9, 18, 11, 11, 3, 14, 13, 15, 6, 17, 16, 11, 3, 2, 3, 19, 4, 16, 15, 4, 0, 6, 12, 6, 19, 2, 8, 0, 5, 19, 9, 9, 19, 13, 2, 6, 9, 6, 13, 12, 8, 11, 10, 18, 0, 8, 17, 19, 4, 1, 5, 11, 1, 5, 6, 3, 17, 1, 16, 4, 11, 15, 2, 0, 4, 8, 11, 7, 6, 10, 18, 4, 0, 7, 13, 6, 19, 5, 18, 16, 0, 17, 12, 15, 18, 15, 4, 2, 4, 0, 0, 11, 1, 6, 5, 14, 19, 6, 10, 19, 0, 16, 0, 12, 1, 10, 13, 6, 2, 5, 11, 4, 1, 4, 3, 12, 18, 4, 19, 11, 6, 18, 19, 14, 0, 3, 12, 19, 17, 14, 4, 4, 16, 14, 6, 8, 1, 1, 5, 9, 19, 1, 9, 1, 2, 14, 7, 19, 6, 5, 10, 17, 6, 3, 6, 5, 8, 2, 18, 12, 5, 14, 9, 4, 17, 17, 18, 7, 15, 1, 13, 0, 4, 8, 10, 14, 16, 10, 4, 8, 12, 16, 19, 13, 8, 2, 11, 17, 1, 16, 5, 2, 12, 12, 16, 15, 14, 11, 0, 4, 0, 10, 12, 14, 6, 9, 11, 8, 1, 13, 14, 2, 12, 6, 15, 0, 8, 1, 2, 9, 0, 6, 15, 4, 7, 9, 5, 4, 6, 0, 7, 15, 4, 0, 18, 17, 13, 11, 6, 16, 18, 19, 1, 7, 17, 7, 4, 10, 9, 15, 0, 11, 11, 1, 15, 9, 15, 6, 16, 6, 16, 13, 3, 7, 6, 16, 15, 17, 6, 1, 2, 4, 18, 9, 0, 7, 5, 15, 0, 16, 14, 13, 6, 13, 6, 5, 12, 13, 1, 12, 10, 6, 0, 5, 5, 14, 2, 9, 10, 4, 9, 12, 12, 9, 0, 2, 11, 5, 11, 12, 19, 16, 9, 18, 3, 11, 0, 11, 5, 17, 13, 19, 5, 15, 8, 17, 0, 14, 17, 12, 11, 2, 12, 6, 4, 16, 12, 6, 6, 10, 8, 13, 9, 3, 16, 7, 18, 11, 18, 7, 1, 11, 1, 12, 6, 15, 11, 19, 14, 8, 6, 17, 17, 16, 10, 19, 9, 18, 17, 9, 19, 9, 10, 18, 18, 1, 14, 15, 0, 6, 11, 5, 2, 14, 4, 14, 3, 18, 11, 13, 4, 5, 17, 2, 6, 10, 7, 14, 9, 0, 5, 17, 11, 19, 18, 0, 7, 3, 5, 11, 6, 4, 1, 19, 17, 1, 4, 12, 4, 19, 12, 1, 15, 14, 9, 19, 8, 3, 5, 14, 1, 11, 3, 17, 4, 11, 15, 6, 19, 10, 8, 14, 4, 15, 3, 6, 14, 4, 5, 2, 15, 9, 0, 10, 7, 4, 7, 5, 13, 15, 13, 17, 0, 4, 5, 18, 2, 0, 19, 15, 1, 14, 12, 3, 7, 2, 12, 14, 15, 2, 3, 9, 14, 16, 6, 1, 13, 1, 12, 8, 9, 1, 2, 5, 6, 11, 18, 0, 15, 4, 5, 8, 12, 7, 12, 9, 5, 9, 11, 17, 17, 15, 10, 5, 19, 6, 16, 12, 19, 12, 6, 4, 15, 9, 15, 10, 6, 6, 0, 18, 5, 19, 12, 6, 0, 10, 10, 4, 17, 14, 0, 3, 7, 3, 17, 19, 10, 1, 11, 16, 10, 5, 13, 4, 0, 17, 14, 10, 11, 2, 2, 0, 13, 4, 11, 10, 9, 1, 16, 9, 4, 8, 6, 6, 2, 1, 17, 16, 5, 4, 8, 16, 19, 6, 12, 10, 17, 7, 15, 7, 0, 8, 9, 6, 2, 5, 13, 9, 8, 3, 14, 17, 13, 18, 16, 6, 13, 7, 4, 18, 15, 16, 17, 0, 16]\n",
            "pred [ 6  1 14 15  9  0  9 15 12  9 13  4  3 19  5 17 12 18 16 18  0  9  2 17\n",
            "  1  1 17 11 19  8  0  9  9  5  7 12 14 19  9 19  0 10 13 15 13  7 19 11\n",
            " 14 13  5 14  9 15  1 13 11  4  7 17 16 17 18 13  7 19 12 19 18 10  3  5\n",
            "  5  0 14 14 14 15  2 11  5 18  6  6 19 10 19  9  1 14  4  0 14  2  9 16\n",
            "  9  3  6  7  7  7  0 16 16 12  9 10  9 10  4  7  8  3  6  6 13  8  3  3\n",
            "  0  3  6 18 14  1  5  0 18 11 17 17  0 18 12 12 11  6 19 14  9 19  9 11\n",
            "  7 15  3  7  5  9 15 16  0 12  3 16  0  3  1  0  4 14 17 15 10 11  3 11\n",
            " 15 15  0  0 10  7 16  8  0 18 13 11 12  4  0 12 10  1 12  6  9 16 10 11\n",
            " 16 11 19 17 14 17 11  2  2 14 10  1  6 17  9 17  6 18  3 19 14  3  4  8\n",
            "  3  8 19  7  6  8  9 13  0  1  9 12 11 18  4  4 14  2 10 17  8 14  4  1\n",
            " 14  3  3 17 13  9  5  0 15  9  5  3 13  3 12 18  5 14  8  8  8 18 12 16\n",
            "  9  0  3 12 13 18  0 17  1 14  1  6  4  9  9  3  0  3 15  9 14  2 11 13\n",
            "  0 18  8  3  1  9 18 11 19  3 14 13 15  6 17 16  3  3  2  3 13  4 16 15\n",
            "  4  0  9 19  6 19  2  3  0  7 16  9  9  3 13  2  6  9  6 13 12  8 11 12\n",
            " 18  0  8 17 19  4  9  5 11  5  5  6 10 17  1 11  4 18 11 19  0  4  8 11\n",
            "  6  6  3 18  4 14  7 18  6 19 17 18 16 11  1 11 13 18 13  4  2 16  0  0\n",
            " 11  1  6  5 14 19  6  3 19  0 16  0 12  1 12 15  9  2  5  3  4  1  4 12\n",
            " 12  8  4 19 11  6 18 19 18  0 10 12 19 17 14  4  4 16  8  6 18  1  1  5\n",
            "  9  3  1  9  1  2 14  7 19  6  5 10 17  6  3  6  7  8  2 18 12  5 14  9\n",
            "  4 17  5  8  7 15  1 14  0  4  8  3 18 16 11  4  8 11 16  2 13 18  2 12\n",
            "  5 16 16  5  2 10 12 16 15  8  3  0 16  0 10 18  8  7  9 11  8  1 13 18\n",
            " 19 12  6 12  4  8  9  2  9  0  6  3  4  7  7 17  6  6  0  7 15  4  0 18\n",
            " 17 13 11  6 16 18 19  1  7 17  7  0 11  9 15  0 11 11  1 15  9 15  9 16\n",
            "  6 16 13 12  9  6 16 15 17  6  1  2  4  4  9  0  7  1 15  0 16 14 10  6\n",
            " 13  6  5 11 13  1 12 12  6 16  5  7 14  2  5 10  4  5  3 12  9  0 19 11\n",
            "  5 11  3 19 16  9 18  3 11  0 12  1  5 14 19  5 10 18 17  0 14 17 12 11\n",
            " 19 12  6  4  0 11  9  6 10  8 13  5  3 16  7 18 11 18  5  1 11  1 12  6\n",
            " 15 12 19 14  3  6  2  5 16 11 19  9 18 17  9 19  9 10  8 18  1 14 13  0\n",
            "  6 11  5  2  8  4 14 10 14 12 13  4  9  1 19  6 10  7 14  9  0  5 17 11\n",
            " 19  8  0  7  3 16 11  6  4  1 19 17  1  4 12  4 19  3  1 15  8  9  3  8\n",
            "  3  5 14  1 11  3  5  4 11 15  6 19 12  8  8  4 15 12  6 18 16  5  2 15\n",
            "  9  0 11  1  4  7  6 13 15 13 17  0  4  9 18 17  0 19 12  5 14 11  3  7\n",
            "  2 12 14 15  2 10  6 14 16  6  1 13  1 18 18  9  1  2  5  6 11  8  0 15\n",
            "  4  5  8 19  5  3  7 17  5 11 17 17 11 10  5  7  6 16 10 19 12  6  4 15\n",
            "  9 15  3  9  6  0  8  5 19 10  6  0  3 12  4 17 14  0  3  7  3 17 19 14\n",
            "  1 12  9 10  5 13  4  0  5 14  3 11  2  2  0 13 16 11 12  9 16 16  9  9\n",
            "  8  6  6  2  5  5 16  1  4  8 16 19  6 12  3 17  7 10  7  0  8  9  6  2\n",
            " 17 19  9  8 12 14 17 15  8  5  6 13  7  4 18  4 16 17  0  3]\n"
          ]
        }
      ]
    },
    {
      "cell_type": "code",
      "metadata": {
        "colab": {
          "base_uri": "https://localhost:8080/"
        },
        "id": "NzSHoZF_l70g",
        "outputId": "30bb5aad-ec0c-4821-8f33-caa2c60c9ef6"
      },
      "source": [
        "mat_train=np.zeros((20,20))\n",
        "i=0\n",
        "while i<valid2_generator.n-1:\n",
        "  il=0\n",
        "  while il<20:\n",
        "    ic=0\n",
        "    while ic<20:\n",
        "      if pred_labels[i]==il and true_labels[i]==ic:\n",
        "        mat_train[il,ic]=mat_train[il,ic]+1\n",
        "      ic=ic+1\n",
        "    il=il+1\n",
        "  i=i+1\n",
        "print(mat_train)\n",
        "np.savetxt(os.path.join(path_to_data,'mat_train.csv'), mat_train, delimiter=',')"
      ],
      "execution_count": 71,
      "outputs": [
        {
          "output_type": "stream",
          "name": "stdout",
          "text": [
            "[[54.  1.  0.  0.  3.  0.  0.  0.  0.  0.  0.  0.  0.  0.  0.  0.  2.  0.\n",
            "   0.  0.]\n",
            " [ 0. 36.  1.  0.  0.  4.  0.  2.  0.  0.  0.  0.  0.  0.  0.  0.  0.  2.\n",
            "   0.  0.]\n",
            " [ 0.  0. 28.  0.  0.  0.  0.  0.  0.  0.  0.  0.  0.  0.  0.  0.  0.  1.\n",
            "   0.  1.]\n",
            " [ 0.  0.  0. 27.  0.  0.  0.  0.  3.  0.  8.  5.  5.  0.  0.  1.  0.  1.\n",
            "   1.  3.]\n",
            " [ 1.  0.  0.  0. 46.  0.  0.  0.  0.  0.  0.  0.  0.  0.  0.  1.  0.  0.\n",
            "   1.  0.]\n",
            " [ 0.  4.  0.  0.  0. 25.  0.  3.  0.  4.  0.  0.  0.  0.  0.  0.  1. 12.\n",
            "   0.  0.]\n",
            " [ 0.  0.  0.  0.  1.  1. 55.  1.  0.  3.  0.  0.  0.  0.  0.  0.  0.  0.\n",
            "   0.  0.]\n",
            " [ 0.  0.  0.  0.  0.  4.  1. 26.  0.  3.  0.  0.  0.  0.  0.  0.  0.  1.\n",
            "   0.  1.]\n",
            " [ 0.  0.  0.  0.  0.  0.  0.  0. 27.  0.  0.  0.  0.  0.  7.  0.  0.  0.\n",
            "   7.  0.]\n",
            " [ 0.  4.  0.  0.  1.  3.  7.  5.  0. 43.  0.  0.  0.  0.  0.  0.  1.  0.\n",
            "   0.  0.]\n",
            " [ 0.  0.  0.  6.  0.  0.  0.  0.  0.  0. 11.  1.  8.  1.  0.  2.  0.  0.\n",
            "   0.  0.]\n",
            " [ 2.  0.  0.  0.  0.  0.  0.  0.  0.  0.  6. 30.  9.  1.  1.  3.  1.  0.\n",
            "   0.  0.]\n",
            " [ 0.  0.  0.  6.  0.  0.  0.  0.  0.  0. 11.  6. 21.  0.  0.  2.  0.  0.\n",
            "   1.  1.]\n",
            " [ 0.  0.  0.  0.  0.  0.  0.  0.  0.  0.  0.  0.  0. 29.  0.  3.  0.  0.\n",
            "   0.  2.]\n",
            " [ 1.  0.  0.  0.  0.  0.  0.  0.  2.  0.  1.  0.  0.  3. 34.  0.  0.  0.\n",
            "   4.  0.]\n",
            " [ 0.  0.  0.  0.  0.  0.  0.  0.  0.  0.  0.  0.  0.  3.  0. 31.  0.  0.\n",
            "   0.  0.]\n",
            " [ 2.  2.  0.  0.  4.  1.  0.  0.  0.  0.  1.  0.  0.  0.  0.  0. 32.  0.\n",
            "   0.  1.]\n",
            " [ 0.  0.  1.  0.  0.  8.  0.  0.  0.  0.  0.  0.  0.  0.  0.  0.  0. 32.\n",
            "   0.  1.]\n",
            " [ 0.  0.  0.  0.  0.  0.  0.  0. 11.  0.  0.  1.  2.  1.  5.  0.  0.  0.\n",
            "  23.  0.]\n",
            " [ 0.  0.  8.  0.  0.  0.  0.  0.  0.  0.  0.  1.  3.  2.  0.  0.  0.  0.\n",
            "   0. 33.]]\n"
          ]
        }
      ]
    }
  ]
}